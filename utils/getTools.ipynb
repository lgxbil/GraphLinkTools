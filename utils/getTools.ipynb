{
        "cells": [
                {
                        "cell_type": "code",
                        "execution_count": null,
                        "metadata": {},
                        "outputs": [],
                        "source": [
                                "import json\n",
                                "\n",
                                "all_tools = set()\n",
                                "with open(\"/home/snrobot/lin/ComplexFuncBench/data/ComplexFuncBench.jsonl\", \"r\") as f:\n",
                                "    for line in f:\n",
                                "        data = json.loads(line)\n",
                                "        id = data[\"id\"]\n",
                                "        category = id.split(\"_\")[0]\n",
                                "        funcs = data[\"functions\"]\n",
                                "        for tool in funcs:\n",
                                "            all_tools.add(json.dumps(tool))\n",
                                "\n",
                                "output_data = {'function': [json.loads(tool) for tool in all_tools]}\n",
                                "with open(\"/home/snrobot/lin/GraphLinkTools/Tools/All_Tools.json\", 'w', encoding='utf-8') as outfile:\n",
                                "    json.dump(output_data, outfile, ensure_ascii=False, indent=4)\n",
                                "print(len(all_tools))"
                        ]
                },
                {
                        "cell_type": "code",
                        "execution_count": null,
                        "metadata": {},
                        "outputs": [
                                {
                                        "name": "stdout",
                                        "output_type": "stream",
                                        "text": [
                                                "{'Search_Attraction_Location', 'Get_Hotel_Reviews(Tips)', 'Search_Hotels_By_Coordinates', 'Get_Hotel_Reviews(Tips)_Sort_Option', 'Search_Hotel_Destination', 'Get_Seat_Map', 'Taxi_Search_Location', 'Get_Flight_Details', 'Get_Min_Price', 'Vehicle_Supplier_Review', 'Payment_features_of_the_Hotel', 'Property_Children_Policies', 'Get_Hotel_Review_Scores', 'Get_Question_And_Answer', 'Get_Attraction_Details', 'Get_Hotel_Details', 'Vehicle_Details', 'Get_Packages', 'Booking_Summary', 'Search_Flight_Location', 'Get_Description_And_Info', 'Get_Availability', 'Location_to_Lat_Long', 'Get_Room_Availability', 'Search_Attractions', 'Search_Flights_Multi_Stops', 'Search_Car_Rentals', 'Get_Room_List_With_Availability', 'Search_Flights', 'Vehicle_Supplier_Details', 'Vehicle_Supplier_Ratings', 'Get_Filter', 'Search_Car_Location', 'Search_Taxi', 'Get_Availability_Calendar', 'Get_Min_Price_Multi_Stops', 'Get_Hotel_Policies', 'Search_Hotels', 'Get_Popular_Attraction_Near_By', 'Get_Nearby_Cities'}\n",
                                                "40\n",
                                                "48\n",
                                                "{'Get_Sort_By', 'Get_Exchange_Rates', 'Get_Currency', 'Get_Room_List', 'v2/auto-complete', 'Get_Hotel_Reviews_Filter_Metadata', 'Get_Languages', 'Test_API'}\n"
                                        ]
                                }
                        ],
                        "source": [
                                "import json\n",
                                "\n",
                                "unique_tools = set()\n",
                                "\n",
                                "with open(\"/home/snrobot/lin/GraphLinkTools/Tools/All_Tools.json\", 'r', encoding='utf-8') as f:\n",
                                "    data = json.load(f)\n",
                                "    tools = data['function']\n",
                                "    for tool in tools:\n",
                                "        unique_tools.add(tool[\"name\"])\n",
                                "print(unique_tools)\n",
                                "print(len(unique_tools))\n",
                                "\n",
                                "        \n",
                                "unique_tools_rapidapi = set()\n",
                                "with open(\"/home/snrobot/lin/ComplexFuncBench/utils/tool_info.json\", 'r', encoding='utf-8') as f:\n",
                                "    tool_info = json.load(f)\n",
                                "    tools = tool_info[\"booking-com15\"]['name_to_url']\n",
                                "    unique_tools_rapidapi = set(tools.keys())\n",
                                "print(len(unique_tools_rapidapi))\n",
                                "print(unique_tools_rapidapi - unique_tools)\n",
                                "    \n",
                                "\n"
                        ]
                },
                {
                        "cell_type": "code",
                        "execution_count": 21,
                        "metadata": {},
                        "outputs": [],
                        "source": [
                                "import json\n",
                                "\n",
                                "Apis = {}\n",
                                "with open(\"/home/snrobot/lin/GraphLinkTools/Tools/Apis.json\", 'r', encoding='utf-8') as f:\n",
                                "    data = json.load(f)\n",
                                "    Apis = data['functions']\n",
                                "    \n",
                                "with open(\"/home/snrobot/lin/GraphLinkTools/Tools/All_Tools.json\", 'r', encoding='utf-8') as f:\n",
                                "    data = json.load(f)\n",
                                "    Tools = data['function']\n",
                                "    \n",
                                "tool_descriptions = {tool[\"name\"]: tool[\"description\"].split(\"EndPoint: \")[0] for tool in Tools}\n",
                                "tool_endpoint = {tool[\"name\"]: tool[\"description\"].split(\"EndPoint: \")[1] for tool in Tools}\n",
                                "\n",
                                "for api in Apis:\n",
                                "    tool_name = api[\"name\"]\n",
                                "    if tool_name in tool_descriptions:\n",
                                "        api[\"func_description\"] = tool_descriptions[tool_name]\n",
                                "        api[\"endpoint\"] = tool_endpoint[tool_name]\n",
                                "    \n",
                                "funcs = {\"functions\":Apis}\n",
                                "with open(\"/home/snrobot/lin/GraphLinkTools/Tools/Apis.json\", 'w', encoding='utf-8') as f:\n",
                                "    json.dump(funcs, f, ensure_ascii=False, indent=4)\n",
                                "    \n",
                                "    "
                        ]
                },
                {
                        "cell_type": "code",
                        "execution_count": 22,
                        "metadata": {},
                        "outputs": [],
                        "source": [
                                "with open(\"/home/snrobot/lin/ComplexFuncBench/utils/tool_info.json\", 'r', encoding='utf-8') as f:\n",
                                "    tool_info = json.load(f)\n",
                                "    tools = tool_info[\"booking-com15\"]['name_to_url']\n",
                                "\n",
                                "for key in tools:\n",
                                "    url = tools[key]\n",
                                "    last_part = url.split('https://booking-com15.p.rapidapi.com')[-1]  # 按 '/' 分割并取最后一段\n",
                                "    tools[key] = last_part\n",
                                "\n",
                                "Apis = {}\n",
                                "with open(\"/home/snrobot/lin/GraphLinkTools/Tools/Apis.json\", 'r', encoding='utf-8') as f:\n",
                                "    data = json.load(f)\n",
                                "    Apis = data['functions']\n",
                                "    \n",
                                "for api in Apis:\n",
                                "    tool_name = api[\"name\"]\n",
                                "    if tool_name in tools:\n",
                                "        api[\"endpoint\"] = tools[tool_name]\n",
                                "        \n",
                                "funcs = {\"functions\":Apis}\n",
                                "with open(\"/home/snrobot/lin/GraphLinkTools/Tools/Apis(1).json\", 'w', encoding='utf-8') as f:\n",
                                "    json.dump(funcs, f, ensure_ascii=False, indent=4)\n",
                                "\n",
                                "\n",
                                "\n"
                        ]
                },
                {
                        "cell_type": "code",
                        "execution_count": null,
                        "metadata": {},
                        "outputs": [
                                {
                                        "name": "stdout",
                                        "output_type": "stream",
                                        "text": [
                                                "共提取 5070 条 function_call 与 observation 映射，已保存至 /home/snrobot/lin/GraphLinkTools/Tools/Function_observation.json\n"
                                        ]
                                }
                        ],
                        "source": [
                                "# 从测试集中获取function_call和observation\n",
                                "import json\n",
                                "\n",
                                "input_file = \"/home/snrobot/lin/ComplexFuncBench/data/ComplexFuncBench.jsonl\"\n",
                                "output_file = \"/home/snrobot/lin/GraphLinkTools/Tools/Static_Response(1).json\"\n",
                                "\n",
                                "\n",
                                "with open(input_file, \"r\") as f:\n",
                                "    datas = [json.loads(line) for line in f]\n",
                                "    \n",
                                "results = []\n",
                                "for data in datas:\n",
                                "    conversations = data[\"conversations\"]\n",
                                "    query = conversations[0][\"content\"]\n",
                                "    i = 0\n",
                                "    while i < len(conversations):\n",
                                "        if conversations[i][\"role\"] == \"assistant\" and \"function_call\" in conversations[i]:\n",
                                "            calls = conversations[i][\"function_call\"]\n",
                                "            j = i + 1\n",
                                "            while j < len(conversations):\n",
                                "                if conversations[j][\"role\"] == \"observation\":\n",
                                "                        observations = conversations[j][\"content\"]\n",
                                "                        break\n",
                                "                j += 1\n",
                                "            else:\n",
                                "                observations = None\n",
                                "            \n",
                                "            for call, obs in zip(calls, observations):\n",
                                "                results.append({\n",
                                "                    \"related_query\": query,\n",
                                "                    \"function_name\": call[\"name\"],\n",
                                "                    \"arguments\": call[\"arguments\"],\n",
                                "                    \"observation\": obs\n",
                                "                }) \n",
                                "        i += 1\n",
                                "with open(output_file, 'w', encoding='utf-8') as out_f:\n",
                                "    json.dump(results, out_f, ensure_ascii=False, indent=4)\n",
                                "\n",
                                "print(f\"共提取 {len(results)} 条 function_call 与 observation 映射，已保存至 {output_file}\")\n",
                                "    \n"
                        ]
                },
                {
                        "cell_type": "code",
                        "execution_count": 1,
                        "metadata": {},
                        "outputs": [],
                        "source": [
                                "str1 = \"eyJkcml2ZXJzQWdlIjozMCwiZHJvcE9mZkRhdGVUaW1lIjoiMjAyNS0wNS0yNVQxMDowMDowMCIsImRyb3BPZmZMb2NhdGlvbiI6IjQwLjYzOTcwMTg0MzI2MTcsLTczLjc3OTE5NzY5Mjg3MTEiLCJkcm9wT2ZmTG9jYXRpb25UeXBlIjoiTEFUTE9ORyIsInBpY2tVcERhdGVUaW1lIjoiMjAyNS0wNS0yNFQxMDowMDowMCIsInBpY2tVcExvY2F0aW9uIjoiNDAuNjM5NzAxODQzMjYxNywtNzMuNzc5MTk3NjkyODcxMSIsInBpY2tVcExvY2F0aW9uVHlwZSI6IkxBVExPTkciLCJyZW50YWxEdXJhdGlvbkluRGF5cyI6MSwic2VydmljZUZlYXR1cmVzIjpbIk5PX09QQVFVRVMiLCJTVVBSRVNTX0ZJWEVEX1BSSUNFX1ZFSElDTEVTIiwiSU5DTFVERV9QUk9EVUNUX1JFTEFUSU9OU0hJUFMiLCJJTkNMVURFX0VYVFJBU19DT05UQUlOSU5HX0ZFRVMiLCJTVVBQUkVTU19ESVJFQ1RfUEFZX0xPQ0FMX1ZFSElDTEVTIl19\"\n",
                                "str2 = \"eyJkcml2ZXJzQWdlIjozMCwiZHJvcE9mZkRhdGVUaW1lIjoiMjAyNS0wNS0zMVQxMDowMDowMCIsImRyb3BPZmZMb2NhdGlvbiI6IjQwLjYzOTcwMTg0MzI2MTcsLTczLjc3OTE5NzY5Mjg3MTEiLCJkcm9wT2ZmTG9jYXRpb25UeXBlIjoiTEFUTE9ORyIsInBpY2tVcERhdGVUaW1lIjoiMjAyNS0wNS0zMFQxMDowMDowMCIsInBpY2tVcExvY2F0aW9uIjoiNDAuNjM5NzAxODQzMjYxNywtNzMuNzc5MTk3NjkyODcxMSIsInBpY2tVcExvY2F0aW9uVHlwZSI6IkxBVExPTkciLCJyZW50YWxEdXJhdGlvbkluRGF5cyI6MSwic2VydmljZUZlYXR1cmVzIjpbIk5PX09QQVFVRVMiLCJTVVBSRVNTX0ZJWEVEX1BSSUNFX1ZFSElDTEVTIiwiSU5DTFVERV9QUk9EVUNUX1JFTEFUSU9OU0hJUFMiLCJJTkNMVURFX0VYVFJBU19DT05UQUlOSU5HX0ZFRVMiLCJTVVBQUkVTU19ESVJFQ1RfUEFZX0xPQ0FMX1ZFSElDTEVTIl19\"\n",
                                "\n"
                        ]
                },
                {
                        "cell_type": "code",
                        "execution_count": 2,
                        "metadata": {},
                        "outputs": [],
                        "source": [
                                "import base64\n",
                                "import json\n",
                                "\n",
                                "def decode_base64_to_json(b64_string):\n",
                                "    decoded_bytes = base64.b64decode(b64_string)\n",
                                "    decoded_str = decoded_bytes.decode('utf-8')\n",
                                "    return json.loads(decoded_str)\n",
                                "\n",
                                "def compare_base64_json(b64_1, b64_2):\n",
                                "    json1 = decode_base64_to_json(b64_1)\n",
                                "    json2 = decode_base64_to_json(b64_2)\n",
                                "    \n",
                                "    if json1 == json2:\n",
                                "        print(\"✅ 两个 Base64 字符串对应的 JSON 内容完全相同。\")\n",
                                "    else:\n",
                                "        print(\"❌ 两个 Base64 字符串对应的 JSON 内容不相同。\")\n",
                                "        print(\"\\n第一个 JSON：\")\n",
                                "        print(json.dumps(json1, indent=2, ensure_ascii=False))\n",
                                "        print(\"\\n第二个 JSON：\")\n",
                                "        print(json.dumps(json2, indent=2, ensure_ascii=False))"
                        ]
                },
                {
                        "cell_type": "code",
                        "execution_count": null,
                        "metadata": {},
                        "outputs": [],
                        "source": [
                                "compare_base64_json(str1, str2)"
                        ]
                },
                {
                        "cell_type": "code",
                        "execution_count": 6,
                        "metadata": {},
                        "outputs": [
                                {
                                        "name": "stdout",
                                        "output_type": "stream",
                                        "text": [
                                                "字符不同: 'y' vs 'z' 在位置 59\n",
                                                "字符不同: 'N' vs 'M' 在位置 60\n",
                                                "字符不同: 'y' vs 'z' 在位置 227\n",
                                                "字符不同: 'N' vs 'M' 在位置 228\n",
                                                "两个字符串完全相同\n"
                                        ]
                                }
                        ],
                        "source": [
                                "def compare_strings(str1, str2):\n",
                                "    min_len = min(len(str1), len(str2))\n",
                                "    for i in range(min_len):\n",
                                "        if str1[i] != str2[i]:\n",
                                "            print(f\"字符不同: '{str1[i]}' vs '{str2[i]}' 在位置 {i}\")\n",
                                "            \n",
                                "    if len(str1) != len(str2):\n",
                                "        print(\"字符串长度不同\")\n",
                                "    else:\n",
                                "        print(\"两个字符串完全相同\")\n",
                                "compare_strings(str1, str2)"
                        ]
                },
                {
                        "cell_type": "code",
                        "execution_count": 1,
                        "metadata": {},
                        "outputs": [
                                {
                                        "name": "stdout",
                                        "output_type": "stream",
                                        "text": [
                                                "49180487613170479882849910156873752360571910622760077955775842754987037631470\n"
                                        ]
                                }
                        ],
                        "source": [
                                "import hashlib\n",
                                "\n",
                                "api_name = \"Search_Hotels\"\n",
                                "hashed_value = int(hashlib.sha256(api_name.encode('utf-8')).hexdigest(), 16)\n",
                                "print(hashed_value)"
                        ]
                }
        ],
        "metadata": {
                "kernelspec": {
                        "display_name": "complexfunc",
                        "language": "python",
                        "name": "python3"
                },
                "language_info": {
                        "codemirror_mode": {
                                "name": "ipython",
                                "version": 3
                        },
                        "file_extension": ".py",
                        "mimetype": "text/x-python",
                        "name": "python",
                        "nbconvert_exporter": "python",
                        "pygments_lexer": "ipython3",
                        "version": "3.9.21"
                }
        },
        "nbformat": 4,
        "nbformat_minor": 2
}
